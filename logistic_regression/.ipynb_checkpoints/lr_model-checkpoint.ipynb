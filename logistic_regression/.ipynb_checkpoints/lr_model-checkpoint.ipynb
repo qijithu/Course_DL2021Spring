{
 "cells": [
  {
   "cell_type": "code",
   "execution_count": 5,
   "id": "sexual-transparency",
   "metadata": {},
   "outputs": [
    {
     "data": {
      "text/plain": [
       "<torch._C.Generator at 0x7f63b4295a30>"
      ]
     },
     "execution_count": 5,
     "metadata": {},
     "output_type": "execute_result"
    }
   ],
   "source": [
    "import mnist_data_loader\n",
    "import matplotlib.pyplot as plt\n",
    "import numpy as np\n",
    "import torch\n",
    "import torch.nn as nn\n",
    "import torch.nn.functional as F\n",
    "import torch.optim as optim\n",
    "\n",
    "torch.manual_seed(1)"
   ]
  },
  {
   "cell_type": "markdown",
   "id": "descending-baseline",
   "metadata": {},
   "source": [
    "## Load data"
   ]
  },
  {
   "cell_type": "code",
   "execution_count": 6,
   "id": "neither-tracker",
   "metadata": {},
   "outputs": [
    {
     "name": "stdout",
     "output_type": "stream",
     "text": [
      "Extracting ../../DATA/MNIST_data/train-images-idx3-ubyte.gz\n",
      "Extracting ../../DATA/MNIST_data/train-labels-idx1-ubyte.gz\n",
      "Extracting ../../DATA/MNIST_data/t10k-images-idx3-ubyte.gz\n",
      "Extracting ../../DATA/MNIST_data/t10k-labels-idx1-ubyte.gz\n",
      "Training dataset size: 12049\n",
      "Test dataset size: 1968\n",
      "3\n"
     ]
    },
    {
     "data": {
      "image/png": "[encoded data removed]",
      "text/plain": [
       "<Figure size 432x288 with 1 Axes>"
      ]
     },
     "metadata": {
      "needs_background": "light"
     },
     "output_type": "display_data"
    }
   ],
   "source": [
    "mnist_dataset = mnist_data_loader.read_data_sets(\"../../DATA/MNIST_data\", one_hot=False)\n",
    "# training dataset\n",
    "train_set = mnist_dataset.train\n",
    "# test dataset\n",
    "test_set = mnist_dataset.test\n",
    "print(\"Training dataset size:\" , train_set.num_examples)\n",
    "print(\"Test dataset size:\" , test_set.num_examples)\n",
    "\n",
    "# visualization\n",
    "example_id = 0\n",
    "image = train_set.images[example_id] # shape = 784 (28*28)\n",
    "label = train_set.labels[example_id] # shape = 1\n",
    "print(label)\n",
    "plt.imshow(np.reshape(image,[28,28]),cmap=\"gray\")\n",
    "plt.show()"
   ]
  },
  {
   "cell_type": "markdown",
   "id": "productive-receipt",
   "metadata": {},
   "source": [
    "## Define Model"
   ]
  },
  {
   "cell_type": "code",
   "execution_count": 30,
   "id": "waiting-labor",
   "metadata": {},
   "outputs": [],
   "source": [
    "class LogisticRegressionModel(nn.Module):\n",
    "    def __init__(self, n_parameters):\n",
    "        super(LogisticRegressionModel, self).__init__()\n",
    "        self.n_parameters = n_parameters\n",
    "        # define weights\n",
    "        self.linear = nn.Linear(n_parameters, 10)\n",
    "        self.sigmoid = torch.nn.Sigmoid()\n",
    "    \n",
    "    def forward(self, inputs):\n",
    "        outputs = self.sigmoid(self.linear(inputs))\n",
    "        return outputs"
   ]
  },
  {
   "cell_type": "markdown",
   "id": "sophisticated-oasis",
   "metadata": {},
   "source": [
    "## Training"
   ]
  },
  {
   "cell_type": "code",
   "execution_count": 44,
   "id": "wound-roulette",
   "metadata": {},
   "outputs": [
    {
     "name": "stdout",
     "output_type": "stream",
     "text": [
      "[Train] epoch: 0 | train_step: 0 | train_loss: 2.30476 | train_acc: 0.000\n",
      "[Test] test_step: 245 | test_acc: 0.247\n",
      "[Train] epoch: 0 | train_step: 10 | train_loss: 1.97074 | train_acc: 0.625\n",
      "[Train] epoch: 0 | train_step: 20 | train_loss: 1.80736 | train_acc: 0.875\n",
      "[Train] epoch: 0 | train_step: 30 | train_loss: 1.72131 | train_acc: 1.000\n",
      "[Train] epoch: 0 | train_step: 40 | train_loss: 1.66751 | train_acc: 0.875\n",
      "[Train] epoch: 0 | train_step: 50 | train_loss: 1.63658 | train_acc: 0.875\n",
      "[Train] epoch: 0 | train_step: 60 | train_loss: 1.61238 | train_acc: 1.000\n",
      "[Train] epoch: 0 | train_step: 70 | train_loss: 1.63311 | train_acc: 0.875\n",
      "[Train] epoch: 0 | train_step: 80 | train_loss: 1.57817 | train_acc: 1.000\n",
      "[Train] epoch: 0 | train_step: 90 | train_loss: 1.58791 | train_acc: 1.000\n",
      "[Train] epoch: 0 | train_step: 100 | train_loss: 1.58737 | train_acc: 1.000\n",
      "[Test] test_step: 245 | test_acc: 0.987\n",
      "[Train] epoch: 0 | train_step: 110 | train_loss: 1.56557 | train_acc: 1.000\n",
      "[Train] epoch: 0 | train_step: 120 | train_loss: 1.55543 | train_acc: 1.000\n",
      "[Train] epoch: 0 | train_step: 130 | train_loss: 1.53008 | train_acc: 1.000\n",
      "[Train] epoch: 0 | train_step: 140 | train_loss: 1.54822 | train_acc: 1.000\n",
      "[Train] epoch: 0 | train_step: 150 | train_loss: 1.58853 | train_acc: 0.875\n",
      "[Train] epoch: 0 | train_step: 160 | train_loss: 1.54367 | train_acc: 0.875\n",
      "[Train] epoch: 0 | train_step: 170 | train_loss: 1.52895 | train_acc: 1.000\n",
      "[Train] epoch: 0 | train_step: 180 | train_loss: 1.53117 | train_acc: 1.000\n",
      "[Train] epoch: 0 | train_step: 190 | train_loss: 1.52864 | train_acc: 1.000\n",
      "[Train] epoch: 0 | train_step: 200 | train_loss: 1.53814 | train_acc: 1.000\n",
      "[Test] test_step: 245 | test_acc: 0.987\n",
      "[Train] epoch: 0 | train_step: 210 | train_loss: 1.50702 | train_acc: 1.000\n",
      "[Train] epoch: 0 | train_step: 220 | train_loss: 1.49588 | train_acc: 1.000\n",
      "[Train] epoch: 0 | train_step: 230 | train_loss: 1.49379 | train_acc: 1.000\n",
      "[Train] epoch: 0 | train_step: 240 | train_loss: 1.49869 | train_acc: 1.000\n",
      "[Train] epoch: 0 | train_step: 250 | train_loss: 1.50642 | train_acc: 1.000\n",
      "[Train] epoch: 0 | train_step: 260 | train_loss: 1.49455 | train_acc: 1.000\n",
      "[Train] epoch: 0 | train_step: 270 | train_loss: 1.53468 | train_acc: 0.875\n",
      "[Train] epoch: 0 | train_step: 280 | train_loss: 1.50206 | train_acc: 1.000\n",
      "[Train] epoch: 0 | train_step: 290 | train_loss: 1.49962 | train_acc: 1.000\n",
      "[Train] epoch: 0 | train_step: 300 | train_loss: 1.49097 | train_acc: 1.000\n",
      "[Test] test_step: 245 | test_acc: 0.988\n",
      "[Train] epoch: 0 | train_step: 310 | train_loss: 1.48895 | train_acc: 1.000\n",
      "[Train] epoch: 0 | train_step: 320 | train_loss: 1.49712 | train_acc: 1.000\n",
      "[Train] epoch: 0 | train_step: 330 | train_loss: 1.49186 | train_acc: 1.000\n",
      "[Train] epoch: 0 | train_step: 340 | train_loss: 1.54000 | train_acc: 0.875\n",
      "[Train] epoch: 0 | train_step: 350 | train_loss: 1.52822 | train_acc: 1.000\n",
      "[Train] epoch: 0 | train_step: 360 | train_loss: 1.54695 | train_acc: 0.875\n",
      "[Train] epoch: 0 | train_step: 370 | train_loss: 1.47953 | train_acc: 1.000\n",
      "[Train] epoch: 0 | train_step: 380 | train_loss: 1.54377 | train_acc: 0.875\n",
      "[Train] epoch: 0 | train_step: 390 | train_loss: 1.47737 | train_acc: 1.000\n",
      "[Train] epoch: 0 | train_step: 400 | train_loss: 1.47857 | train_acc: 1.000\n",
      "[Test] test_step: 245 | test_acc: 0.992\n",
      "[Train] epoch: 0 | train_step: 410 | train_loss: 1.53522 | train_acc: 0.875\n",
      "[Train] epoch: 0 | train_step: 420 | train_loss: 1.49908 | train_acc: 1.000\n",
      "[Train] epoch: 0 | train_step: 430 | train_loss: 1.46828 | train_acc: 1.000\n",
      "[Train] epoch: 0 | train_step: 440 | train_loss: 1.50799 | train_acc: 1.000\n",
      "[Train] epoch: 0 | train_step: 450 | train_loss: 1.51251 | train_acc: 1.000\n",
      "[Train] epoch: 0 | train_step: 460 | train_loss: 1.51949 | train_acc: 0.875\n",
      "[Train] epoch: 0 | train_step: 470 | train_loss: 1.52013 | train_acc: 1.000\n",
      "[Train] epoch: 0 | train_step: 480 | train_loss: 1.53730 | train_acc: 1.000\n",
      "[Train] epoch: 0 | train_step: 490 | train_loss: 1.47491 | train_acc: 1.000\n",
      "[Train] epoch: 0 | train_step: 500 | train_loss: 1.47517 | train_acc: 1.000\n",
      "[Test] test_step: 245 | test_acc: 0.990\n",
      "[Train] epoch: 0 | train_step: 510 | train_loss: 1.48269 | train_acc: 1.000\n",
      "[Train] epoch: 0 | train_step: 520 | train_loss: 1.47969 | train_acc: 1.000\n",
      "[Train] epoch: 0 | train_step: 530 | train_loss: 1.47277 | train_acc: 1.000\n",
      "[Train] epoch: 0 | train_step: 540 | train_loss: 1.49325 | train_acc: 1.000\n",
      "[Train] epoch: 0 | train_step: 550 | train_loss: 1.47089 | train_acc: 1.000\n",
      "[Train] epoch: 0 | train_step: 560 | train_loss: 1.47616 | train_acc: 1.000\n",
      "[Train] epoch: 0 | train_step: 570 | train_loss: 1.47822 | train_acc: 1.000\n",
      "[Train] epoch: 0 | train_step: 580 | train_loss: 1.47325 | train_acc: 1.000\n",
      "[Train] epoch: 0 | train_step: 590 | train_loss: 1.46817 | train_acc: 1.000\n",
      "[Train] epoch: 0 | train_step: 600 | train_loss: 1.46919 | train_acc: 1.000\n",
      "[Test] test_step: 245 | test_acc: 0.991\n",
      "[Train] epoch: 0 | train_step: 610 | train_loss: 1.46797 | train_acc: 1.000\n",
      "[Train] epoch: 0 | train_step: 620 | train_loss: 1.47576 | train_acc: 1.000\n",
      "[Train] epoch: 0 | train_step: 630 | train_loss: 1.58544 | train_acc: 0.875\n",
      "[Train] epoch: 0 | train_step: 640 | train_loss: 1.48077 | train_acc: 1.000\n",
      "[Train] epoch: 0 | train_step: 650 | train_loss: 1.52949 | train_acc: 1.000\n",
      "[Train] epoch: 0 | train_step: 660 | train_loss: 1.47106 | train_acc: 1.000\n",
      "[Train] epoch: 0 | train_step: 670 | train_loss: 1.46666 | train_acc: 1.000\n",
      "[Train] epoch: 0 | train_step: 680 | train_loss: 1.46238 | train_acc: 1.000\n",
      "[Train] epoch: 0 | train_step: 690 | train_loss: 1.46871 | train_acc: 1.000\n",
      "[Train] epoch: 0 | train_step: 700 | train_loss: 1.47625 | train_acc: 1.000\n",
      "[Test] test_step: 245 | test_acc: 0.991\n",
      "[Train] epoch: 0 | train_step: 710 | train_loss: 1.48489 | train_acc: 1.000\n",
      "[Train] epoch: 0 | train_step: 720 | train_loss: 1.46505 | train_acc: 1.000\n",
      "[Train] epoch: 0 | train_step: 730 | train_loss: 1.48173 | train_acc: 1.000\n",
      "[Train] epoch: 0 | train_step: 740 | train_loss: 1.48072 | train_acc: 1.000\n",
      "[Train] epoch: 0 | train_step: 750 | train_loss: 1.46867 | train_acc: 1.000\n",
      "[Train] epoch: 0 | train_step: 760 | train_loss: 1.46635 | train_acc: 1.000\n",
      "[Train] epoch: 0 | train_step: 770 | train_loss: 1.46786 | train_acc: 1.000\n",
      "[Train] epoch: 0 | train_step: 780 | train_loss: 1.47646 | train_acc: 1.000\n",
      "[Train] epoch: 0 | train_step: 790 | train_loss: 1.46777 | train_acc: 1.000\n",
      "[Train] epoch: 0 | train_step: 800 | train_loss: 1.46392 | train_acc: 1.000\n",
      "[Test] test_step: 245 | test_acc: 0.988\n",
      "[Train] epoch: 0 | train_step: 810 | train_loss: 1.47296 | train_acc: 1.000\n",
      "[Train] epoch: 0 | train_step: 820 | train_loss: 1.47400 | train_acc: 1.000\n",
      "[Train] epoch: 0 | train_step: 830 | train_loss: 1.46762 | train_acc: 1.000\n",
      "[Train] epoch: 0 | train_step: 840 | train_loss: 1.48488 | train_acc: 1.000\n",
      "[Train] epoch: 0 | train_step: 850 | train_loss: 1.47567 | train_acc: 1.000\n",
      "[Train] epoch: 0 | train_step: 860 | train_loss: 1.46996 | train_acc: 1.000\n",
      "[Train] epoch: 0 | train_step: 870 | train_loss: 1.49335 | train_acc: 1.000\n",
      "[Train] epoch: 0 | train_step: 880 | train_loss: 1.47037 | train_acc: 1.000\n",
      "[Train] epoch: 0 | train_step: 890 | train_loss: 1.46966 | train_acc: 1.000\n",
      "[Train] epoch: 0 | train_step: 900 | train_loss: 1.47767 | train_acc: 1.000\n",
      "[Test] test_step: 245 | test_acc: 0.994\n",
      "[Train] epoch: 0 | train_step: 910 | train_loss: 1.46482 | train_acc: 1.000\n",
      "[Train] epoch: 0 | train_step: 920 | train_loss: 1.47323 | train_acc: 1.000\n",
      "[Train] epoch: 0 | train_step: 930 | train_loss: 1.47114 | train_acc: 1.000\n",
      "[Train] epoch: 0 | train_step: 940 | train_loss: 1.47092 | train_acc: 1.000\n",
      "[Train] epoch: 0 | train_step: 950 | train_loss: 1.47905 | train_acc: 1.000\n",
      "[Train] epoch: 0 | train_step: 960 | train_loss: 1.48901 | train_acc: 1.000\n",
      "[Train] epoch: 0 | train_step: 970 | train_loss: 1.48882 | train_acc: 1.000\n",
      "[Train] epoch: 0 | train_step: 980 | train_loss: 1.50365 | train_acc: 1.000\n",
      "[Train] epoch: 0 | train_step: 990 | train_loss: 1.47502 | train_acc: 1.000\n",
      "[Train] epoch: 0 | train_step: 1000 | train_loss: 1.46319 | train_acc: 1.000\n",
      "[Test] test_step: 245 | test_acc: 0.993\n",
      "[Train] epoch: 0 | train_step: 1010 | train_loss: 1.49211 | train_acc: 1.000\n",
      "[Train] epoch: 0 | train_step: 1020 | train_loss: 1.53403 | train_acc: 0.875\n",
      "[Train] epoch: 0 | train_step: 1030 | train_loss: 1.46700 | train_acc: 1.000\n",
      "[Train] epoch: 0 | train_step: 1040 | train_loss: 1.46893 | train_acc: 1.000\n",
      "[Train] epoch: 0 | train_step: 1050 | train_loss: 1.46952 | train_acc: 1.000\n",
      "[Train] epoch: 0 | train_step: 1060 | train_loss: 1.48597 | train_acc: 1.000\n",
      "[Train] epoch: 0 | train_step: 1070 | train_loss: 1.46813 | train_acc: 1.000\n",
      "[Train] epoch: 0 | train_step: 1080 | train_loss: 1.48973 | train_acc: 1.000\n",
      "[Train] epoch: 0 | train_step: 1090 | train_loss: 1.48169 | train_acc: 1.000\n",
      "[Train] epoch: 0 | train_step: 1100 | train_loss: 1.47145 | train_acc: 1.000\n",
      "[Test] test_step: 245 | test_acc: 0.994\n",
      "[Train] epoch: 0 | train_step: 1110 | train_loss: 1.46359 | train_acc: 1.000\n",
      "[Train] epoch: 0 | train_step: 1120 | train_loss: 1.47377 | train_acc: 1.000\n",
      "[Train] epoch: 0 | train_step: 1130 | train_loss: 1.47161 | train_acc: 1.000\n",
      "[Train] epoch: 0 | train_step: 1140 | train_loss: 1.48656 | train_acc: 1.000\n",
      "[Train] epoch: 0 | train_step: 1150 | train_loss: 1.46404 | train_acc: 1.000\n",
      "[Train] epoch: 0 | train_step: 1160 | train_loss: 1.46698 | train_acc: 1.000\n",
      "[Train] epoch: 0 | train_step: 1170 | train_loss: 1.47501 | train_acc: 1.000\n",
      "[Train] epoch: 0 | train_step: 1180 | train_loss: 1.46570 | train_acc: 1.000\n",
      "[Train] epoch: 0 | train_step: 1190 | train_loss: 1.46744 | train_acc: 1.000\n",
      "[Train] epoch: 0 | train_step: 1200 | train_loss: 1.47054 | train_acc: 1.000\n",
      "[Test] test_step: 245 | test_acc: 0.995\n",
      "[Train] epoch: 0 | train_step: 1210 | train_loss: 1.46697 | train_acc: 1.000\n",
      "[Train] epoch: 0 | train_step: 1220 | train_loss: 1.46253 | train_acc: 1.000\n",
      "[Train] epoch: 0 | train_step: 1230 | train_loss: 1.47500 | train_acc: 1.000\n",
      "[Train] epoch: 0 | train_step: 1240 | train_loss: 1.47118 | train_acc: 1.000\n",
      "[Train] epoch: 0 | train_step: 1250 | train_loss: 1.46700 | train_acc: 1.000\n",
      "[Train] epoch: 0 | train_step: 1260 | train_loss: 1.46382 | train_acc: 1.000\n",
      "[Train] epoch: 0 | train_step: 1270 | train_loss: 1.46471 | train_acc: 1.000\n",
      "[Train] epoch: 0 | train_step: 1280 | train_loss: 1.46349 | train_acc: 1.000\n",
      "[Train] epoch: 0 | train_step: 1290 | train_loss: 1.46272 | train_acc: 1.000\n",
      "[Train] epoch: 0 | train_step: 1300 | train_loss: 1.46410 | train_acc: 1.000\n",
      "[Test] test_step: 245 | test_acc: 0.991\n",
      "[Train] epoch: 0 | train_step: 1310 | train_loss: 1.48863 | train_acc: 1.000\n",
      "[Train] epoch: 0 | train_step: 1320 | train_loss: 1.46597 | train_acc: 1.000\n",
      "[Train] epoch: 0 | train_step: 1330 | train_loss: 1.46726 | train_acc: 1.000\n",
      "[Train] epoch: 0 | train_step: 1340 | train_loss: 1.47362 | train_acc: 1.000\n",
      "[Train] epoch: 0 | train_step: 1350 | train_loss: 1.46657 | train_acc: 1.000\n",
      "[Train] epoch: 0 | train_step: 1360 | train_loss: 1.46171 | train_acc: 1.000\n",
      "[Train] epoch: 0 | train_step: 1370 | train_loss: 1.46643 | train_acc: 1.000\n",
      "[Train] epoch: 0 | train_step: 1380 | train_loss: 1.47876 | train_acc: 1.000\n",
      "[Train] epoch: 0 | train_step: 1390 | train_loss: 1.49111 | train_acc: 1.000\n",
      "[Train] epoch: 0 | train_step: 1400 | train_loss: 1.46815 | train_acc: 1.000\n",
      "[Test] test_step: 245 | test_acc: 0.995\n",
      "[Train] epoch: 0 | train_step: 1410 | train_loss: 1.47738 | train_acc: 1.000\n",
      "[Train] epoch: 0 | train_step: 1420 | train_loss: 1.46680 | train_acc: 1.000\n",
      "[Train] epoch: 0 | train_step: 1430 | train_loss: 1.46839 | train_acc: 1.000\n",
      "[Train] epoch: 0 | train_step: 1440 | train_loss: 1.46236 | train_acc: 1.000\n",
      "[Train] epoch: 0 | train_step: 1450 | train_loss: 1.47745 | train_acc: 1.000\n",
      "[Train] epoch: 0 | train_step: 1460 | train_loss: 1.46259 | train_acc: 1.000\n",
      "[Train] epoch: 0 | train_step: 1470 | train_loss: 1.47047 | train_acc: 1.000\n",
      "[Train] epoch: 0 | train_step: 1480 | train_loss: 1.46997 | train_acc: 1.000\n",
      "[Train] epoch: 0 | train_step: 1490 | train_loss: 1.46581 | train_acc: 1.000\n",
      "[Train] epoch: 0 | train_step: 1500 | train_loss: 1.49541 | train_acc: 0.875\n",
      "[Test] test_step: 245 | test_acc: 0.992\n"
     ]
    },
    {
     "data": {
      "image/png": "[encoded data removed]",
      "text/plain": [
       "<Figure size 600x400 with 1 Axes>"
      ]
     },
     "metadata": {
      "needs_background": "light"
     },
     "output_type": "display_data"
    },
    {
     "data": {
      "image/png": "[encoded data removed]",
      "text/plain": [
       "<Figure size 600x400 with 1 Axes>"
      ]
     },
     "metadata": {
      "needs_background": "light"
     },
     "output_type": "display_data"
    }
   ],
   "source": [
    "# get model\n",
    "model = LogisticRegressionModel(n_parameters=784)\n",
    "# loss_function = nn.NLLLoss()\n",
    "loss_function = nn.CrossEntropyLoss()\n",
    "# optimizer = optim.SGD(model.parameters(), lr=0.1)\n",
    "optimizer = optim.Adam(model.parameters(), lr=0.001)\n",
    "\n",
    "batch_size = 8\n",
    "max_epoch = 1\n",
    "eval_steps = 10\n",
    "test_steps = 100\n",
    "train_losses = []\n",
    "train_accs  = []\n",
    "for epoch in range(0, max_epoch):\n",
    "    iter_per_batch = train_set.num_examples // batch_size\n",
    "    for train_step, batch_id in enumerate(range(0, iter_per_batch)):\n",
    "        # get the data of next minibatch (have been shuffled)\n",
    "        optimizer.zero_grad()\n",
    "        batch = train_set.next_batch(batch_size)\n",
    "        inputs, label = batch # inputs: np.array with shape of (bsz, 784); label: int\n",
    "        inputs = torch.FloatTensor(inputs)\n",
    "        label = torch.LongTensor(label)\n",
    "        # prediction\n",
    "        outputs = model(inputs)\n",
    "        # calculate the loss (and accuracy)\n",
    "        loss = loss_function(outputs, label)\n",
    "        train_losses.append(loss.item())\n",
    "        # update weights\n",
    "        loss.backward()\n",
    "        optimizer.step()\n",
    "        pred = torch.argmax(outputs, dim=-1)\n",
    "        # evaluate\n",
    "        if train_step % eval_steps == 0:\n",
    "            train_acc = (pred==label).int().sum() / len(pred)\n",
    "            train_accs.append(train_acc.item())\n",
    "            print(\"[Train] epoch: %d | train_step: %d | train_loss: %.5f | train_acc: %.3f\" % (epoch, train_step, loss, train_acc))\n",
    "        # test\n",
    "        if train_step % test_steps == 0:\n",
    "            test_batches = test_set.num_examples // batch_size\n",
    "            test_tp, test_total = 0, 0\n",
    "            for test_step, test_batch_id in enumerate(range(0, test_batches)):\n",
    "                # get the data of next minibatch (have been shuffled)\n",
    "                batch = test_set.next_batch(batch_size)\n",
    "                inputs, label = batch # inputs: np.array with shape of (bsz, 784); label: int\n",
    "                inputs = torch.FloatTensor(inputs)\n",
    "                label = torch.LongTensor(label)\n",
    "                # prediction\n",
    "                with torch.no_grad():\n",
    "                    outputs = model(inputs)\n",
    "                pred = torch.argmax(outputs, dim=-1)\n",
    "                test_tp +=  (pred==label).int().sum()\n",
    "                test_total += len(pred)\n",
    "            test_acc = test_tp / test_total\n",
    "            print(\"[Test] test_step: %d | test_acc: %.3f\" % (test_step, test_acc))\n",
    "\n",
    "# plot train losses curve\n",
    "x_arr = np.arange(len(train_losses))\n",
    "fig1 = plt.figure(dpi=100)\n",
    "plt.title(\"train losses\")\n",
    "plt.plot(x_arr, train_losses)\n",
    "plt.show()\n",
    "fig1.savefig(\"imgs/train_losses.png\")\n",
    "\n",
    "# plot train accuracy curve\n",
    "x_arr = np.arange(len(train_accs))\n",
    "fig2 = plt.figure(dpi=100)\n",
    "plt.title(\"train accuracies\")\n",
    "plt.plot(x_arr, train_accs)\n",
    "plt.show()\n",
    "fig2.savefig(\"imgs/train_accuracies.png\")"
   ]
  },
  {
   "cell_type": "code",
   "execution_count": null,
   "id": "expressed-accuracy",
   "metadata": {},
   "outputs": [],
   "source": []
  }
 ],
 "metadata": {
  "kernelspec": {
   "display_name": "Python 3",
   "language": "python",
   "name": "python3"
  },
  "language_info": {
   "codemirror_mode": {
    "name": "ipython",
    "version": 3
   },
   "file_extension": ".py",
   "mimetype": "text/x-python",
   "name": "python",
   "nbconvert_exporter": "python",
   "pygments_lexer": "ipython3",
   "version": "3.7.9"
  }
 },
 "nbformat": 4,
 "nbformat_minor": 5
}
